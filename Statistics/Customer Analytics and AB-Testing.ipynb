{
 "cells": [
  {
   "cell_type": "markdown",
   "id": "766c73a3",
   "metadata": {},
   "source": [
    "# A/B testing\n",
    "a tool that allows you to test two or more different ideas against each other in the real world, and to see which one empirically performs better. <br>\n",
    "\n",
    "\n",
    "\n",
    "empirically -> by means of observation or experience rather than theory or pure logic.<br>\n",
    "There is no guessing. You get to know which idea is better under the conditions that matter most <br>\n",
    "- It can provide accurate answers quickly, allowing companies to rapidly iterate on ideas.\n",
    "- At its core, it is one of the only statistically sound ways to establish <b> causal relationships<b>.\n",
    "    \n",
    "A/B tests are run to improve Key Performance Indicators or KPIs."
   ]
  },
  {
   "cell_type": "markdown",
   "id": "b709a7a7",
   "metadata": {},
   "source": [
    "# Key Performance Indicators - KPIs. \n",
    "How to identify and define meaningful KPIs through a combination of critical thinking and leveraging Python tools. \n",
    "\n",
    "- For a drug company these may be remission rates of a cancer, or the likelihood of a particular side-effect.\n",
    "- For a mobile game, it may be something like revenue, or play time per user.\n",
    "- For an App Conversion Rate KPI Percentage of users who subscribe aer the free trial."
   ]
  },
  {
   "cell_type": "markdown",
   "id": "db850f3c",
   "metadata": {},
   "source": [
    "### Identifying the right KPIs requires a combination of\n",
    "\n",
    "- experience, domain knowledge:tell you what is likely to be an important driver of the business\n",
    "\n",
    "- exploratory data analysis: allows you to uncover relationships that reveal which metrics truly measure these drivers."
   ]
  },
  {
   "cell_type": "code",
   "execution_count": 1,
   "id": "3ac79380",
   "metadata": {},
   "outputs": [],
   "source": [
    "import pandas as pd"
   ]
  },
  {
   "cell_type": "code",
   "execution_count": 2,
   "id": "c2a6b0bd",
   "metadata": {},
   "outputs": [
    {
     "data": {
      "text/plain": [
       "Index(['uid', 'reg_date', 'device', 'gender', 'country', 'age'], dtype='object')"
      ]
     },
     "execution_count": 2,
     "metadata": {},
     "output_type": "execute_result"
    }
   ],
   "source": [
    "customer_data = pd.read_csv('./data/ABTesting/customer.csv')\n",
    "customer_data.columns"
   ]
  },
  {
   "cell_type": "code",
   "execution_count": 3,
   "id": "50487315",
   "metadata": {},
   "outputs": [
    {
     "data": {
      "text/plain": [
       "Index(['date', 'uid', 'sku', 'price'], dtype='object')"
      ]
     },
     "execution_count": 3,
     "metadata": {},
     "output_type": "execute_result"
    }
   ],
   "source": [
    "app_purchases = pd.read_csv('./data/ABTesting/inappParchuase.csv')\n",
    "app_purchases.columns"
   ]
  },
  {
   "cell_type": "code",
   "execution_count": 4,
   "id": "cb4b8898",
   "metadata": {},
   "outputs": [
    {
     "data": {
      "text/html": [
       "<div>\n",
       "<style scoped>\n",
       "    .dataframe tbody tr th:only-of-type {\n",
       "        vertical-align: middle;\n",
       "    }\n",
       "\n",
       "    .dataframe tbody tr th {\n",
       "        vertical-align: top;\n",
       "    }\n",
       "\n",
       "    .dataframe thead th {\n",
       "        text-align: right;\n",
       "    }\n",
       "</style>\n",
       "<table border=\"1\" class=\"dataframe\">\n",
       "  <thead>\n",
       "    <tr style=\"text-align: right;\">\n",
       "      <th></th>\n",
       "      <th>purchase_date</th>\n",
       "      <th>uid</th>\n",
       "      <th>sku</th>\n",
       "      <th>price</th>\n",
       "      <th>reg_date</th>\n",
       "      <th>device</th>\n",
       "      <th>gender</th>\n",
       "      <th>country</th>\n",
       "      <th>age</th>\n",
       "    </tr>\n",
       "  </thead>\n",
       "  <tbody>\n",
       "    <tr>\n",
       "      <th>0</th>\n",
       "      <td>2017-07-10</td>\n",
       "      <td>41195147</td>\n",
       "      <td>sku_three_499</td>\n",
       "      <td>499</td>\n",
       "      <td>2017-06-26T00:00:00Z</td>\n",
       "      <td>and</td>\n",
       "      <td>M</td>\n",
       "      <td>BRA</td>\n",
       "      <td>17</td>\n",
       "    </tr>\n",
       "    <tr>\n",
       "      <th>1</th>\n",
       "      <td>2017-07-15</td>\n",
       "      <td>41195147</td>\n",
       "      <td>sku_three_499</td>\n",
       "      <td>499</td>\n",
       "      <td>2017-06-26T00:00:00Z</td>\n",
       "      <td>and</td>\n",
       "      <td>M</td>\n",
       "      <td>BRA</td>\n",
       "      <td>17</td>\n",
       "    </tr>\n",
       "    <tr>\n",
       "      <th>2</th>\n",
       "      <td>2017-11-12</td>\n",
       "      <td>41195147</td>\n",
       "      <td>sku_four_599</td>\n",
       "      <td>599</td>\n",
       "      <td>2017-06-26T00:00:00Z</td>\n",
       "      <td>and</td>\n",
       "      <td>M</td>\n",
       "      <td>BRA</td>\n",
       "      <td>17</td>\n",
       "    </tr>\n",
       "    <tr>\n",
       "      <th>3</th>\n",
       "      <td>2017-09-26</td>\n",
       "      <td>91591874</td>\n",
       "      <td>sku_two_299</td>\n",
       "      <td>299</td>\n",
       "      <td>2017-01-05T00:00:00Z</td>\n",
       "      <td>and</td>\n",
       "      <td>M</td>\n",
       "      <td>TUR</td>\n",
       "      <td>17</td>\n",
       "    </tr>\n",
       "    <tr>\n",
       "      <th>4</th>\n",
       "      <td>2017-12-01</td>\n",
       "      <td>91591874</td>\n",
       "      <td>sku_four_599</td>\n",
       "      <td>599</td>\n",
       "      <td>2017-01-05T00:00:00Z</td>\n",
       "      <td>and</td>\n",
       "      <td>M</td>\n",
       "      <td>TUR</td>\n",
       "      <td>17</td>\n",
       "    </tr>\n",
       "  </tbody>\n",
       "</table>\n",
       "</div>"
      ],
      "text/plain": [
       "  purchase_date       uid            sku  price              reg_date device  \\\n",
       "0    2017-07-10  41195147  sku_three_499    499  2017-06-26T00:00:00Z    and   \n",
       "1    2017-07-15  41195147  sku_three_499    499  2017-06-26T00:00:00Z    and   \n",
       "2    2017-11-12  41195147   sku_four_599    599  2017-06-26T00:00:00Z    and   \n",
       "3    2017-09-26  91591874    sku_two_299    299  2017-01-05T00:00:00Z    and   \n",
       "4    2017-12-01  91591874   sku_four_599    599  2017-01-05T00:00:00Z    and   \n",
       "\n",
       "  gender country  age  \n",
       "0      M     BRA   17  \n",
       "1      M     BRA   17  \n",
       "2      M     BRA   17  \n",
       "3      M     TUR   17  \n",
       "4      M     TUR   17  "
      ]
     },
     "execution_count": 4,
     "metadata": {},
     "output_type": "execute_result"
    }
   ],
   "source": [
    "purchase_data = app_purchases.merge(customer_data, on=['uid'], how='inner')\n",
    "purchase_data = purchase_data.rename(columns = {'date': 'purchase_date'})\n",
    "purchase_data.head()"
   ]
  },
  {
   "cell_type": "markdown",
   "id": "b9b1204f",
   "metadata": {},
   "source": [
    "## Practicing aggregations\n"
   ]
  },
  {
   "cell_type": "code",
   "execution_count": 5,
   "id": "56973193",
   "metadata": {},
   "outputs": [
    {
     "data": {
      "text/plain": [
       "mean      406.772596\n",
       "median    299.000000\n",
       "Name: price, dtype: float64"
      ]
     },
     "execution_count": 5,
     "metadata": {},
     "output_type": "execute_result"
    }
   ],
   "source": [
    "purchase_data.price.agg(['mean', 'median'])"
   ]
  },
  {
   "cell_type": "code",
   "execution_count": 6,
   "id": "f1c4a1a3",
   "metadata": {},
   "outputs": [
    {
     "data": {
      "text/html": [
       "<div>\n",
       "<style scoped>\n",
       "    .dataframe tbody tr th:only-of-type {\n",
       "        vertical-align: middle;\n",
       "    }\n",
       "\n",
       "    .dataframe tbody tr th {\n",
       "        vertical-align: top;\n",
       "    }\n",
       "\n",
       "    .dataframe thead th {\n",
       "        text-align: right;\n",
       "    }\n",
       "</style>\n",
       "<table border=\"1\" class=\"dataframe\">\n",
       "  <thead>\n",
       "    <tr style=\"text-align: right;\">\n",
       "      <th></th>\n",
       "      <th>price</th>\n",
       "      <th>age</th>\n",
       "    </tr>\n",
       "  </thead>\n",
       "  <tbody>\n",
       "    <tr>\n",
       "      <th>mean</th>\n",
       "      <td>406.772596</td>\n",
       "      <td>23.922274</td>\n",
       "    </tr>\n",
       "    <tr>\n",
       "      <th>median</th>\n",
       "      <td>299.000000</td>\n",
       "      <td>21.000000</td>\n",
       "    </tr>\n",
       "  </tbody>\n",
       "</table>\n",
       "</div>"
      ],
      "text/plain": [
       "             price        age\n",
       "mean    406.772596  23.922274\n",
       "median  299.000000  21.000000"
      ]
     },
     "execution_count": 6,
     "metadata": {},
     "output_type": "execute_result"
    }
   ],
   "source": [
    "purchase_data.agg({'price': ['mean', 'median'], \n",
    "                   'age':   ['mean', 'median'] })"
   ]
  },
  {
   "cell_type": "code",
   "execution_count": 7,
   "id": "1083f433",
   "metadata": {},
   "outputs": [
    {
     "data": {
      "text/plain": [
       "<pandas.core.groupby.generic.DataFrameGroupBy object at 0x7f668d0d8bb0>"
      ]
     },
     "execution_count": 7,
     "metadata": {},
     "output_type": "execute_result"
    }
   ],
   "source": [
    "grouped_purchase_data = purchase_data.groupby( by=['device', 'gender'])\n",
    "grouped_purchase_data"
   ]
  },
  {
   "cell_type": "code",
   "execution_count": 8,
   "id": "a3319a55",
   "metadata": {},
   "outputs": [
    {
     "data": {
      "text/html": [
       "<div>\n",
       "<style scoped>\n",
       "    .dataframe tbody tr th:only-of-type {\n",
       "        vertical-align: middle;\n",
       "    }\n",
       "\n",
       "    .dataframe tbody tr th {\n",
       "        vertical-align: top;\n",
       "    }\n",
       "\n",
       "    .dataframe thead tr th {\n",
       "        text-align: left;\n",
       "    }\n",
       "\n",
       "    .dataframe thead tr:last-of-type th {\n",
       "        text-align: right;\n",
       "    }\n",
       "</style>\n",
       "<table border=\"1\" class=\"dataframe\">\n",
       "  <thead>\n",
       "    <tr>\n",
       "      <th></th>\n",
       "      <th></th>\n",
       "      <th colspan=\"2\" halign=\"left\">price</th>\n",
       "    </tr>\n",
       "    <tr>\n",
       "      <th></th>\n",
       "      <th></th>\n",
       "      <th>mean</th>\n",
       "      <th>median</th>\n",
       "    </tr>\n",
       "    <tr>\n",
       "      <th>device</th>\n",
       "      <th>gender</th>\n",
       "      <th></th>\n",
       "      <th></th>\n",
       "    </tr>\n",
       "  </thead>\n",
       "  <tbody>\n",
       "    <tr>\n",
       "      <th rowspan=\"2\" valign=\"top\">and</th>\n",
       "      <th>F</th>\n",
       "      <td>400.747504</td>\n",
       "      <td>299.0</td>\n",
       "    </tr>\n",
       "    <tr>\n",
       "      <th>M</th>\n",
       "      <td>416.237308</td>\n",
       "      <td>499.0</td>\n",
       "    </tr>\n",
       "    <tr>\n",
       "      <th rowspan=\"2\" valign=\"top\">iOS</th>\n",
       "      <th>F</th>\n",
       "      <td>404.435330</td>\n",
       "      <td>299.0</td>\n",
       "    </tr>\n",
       "    <tr>\n",
       "      <th>M</th>\n",
       "      <td>405.272401</td>\n",
       "      <td>299.0</td>\n",
       "    </tr>\n",
       "  </tbody>\n",
       "</table>\n",
       "</div>"
      ],
      "text/plain": [
       "                    price       \n",
       "                     mean median\n",
       "device gender                   \n",
       "and    F       400.747504  299.0\n",
       "       M       416.237308  499.0\n",
       "iOS    F       404.435330  299.0\n",
       "       M       405.272401  299.0"
      ]
     },
     "execution_count": 8,
     "metadata": {},
     "output_type": "execute_result"
    }
   ],
   "source": [
    "purchase_summary = grouped_purchase_data.agg({'price': ['mean', 'median']})\n",
    "purchase_summary"
   ]
  },
  {
   "cell_type": "markdown",
   "id": "24862fbf",
   "metadata": {},
   "source": [
    "## Calculating KPIs\n",
    "The average amount of price paid per purchase within a user's first 28 days \n",
    "\n",
    "### Suppose today is : Timestamp('2018-03-17 00:00:00')\n",
    "There is Registerations done today in our purchase_data, and to calculate such KPI it needs only users spends at least 28 day after thier Registerations. <br>\n",
    "<b> some or most KPIs needs patience like this.<b>"
   ]
  },
  {
   "cell_type": "code",
   "execution_count": 9,
   "id": "97153683",
   "metadata": {},
   "outputs": [
    {
     "data": {
      "text/plain": [
       "'2018-03-17T00:00:00Z'"
      ]
     },
     "execution_count": 9,
     "metadata": {},
     "output_type": "execute_result"
    }
   ],
   "source": [
    "max(purchase_data['reg_date'])  # '2018-03-17T00:00:00Z' is today :D"
   ]
  },
  {
   "cell_type": "code",
   "execution_count": 10,
   "id": "e1b4fc66",
   "metadata": {},
   "outputs": [],
   "source": [
    "purchase_data.reg_date      = purchase_data.reg_date.astype('datetime64[ns]')\n",
    "purchase_data.purchase_date = pd.to_datetime(purchase_data.purchase_date)"
   ]
  },
  {
   "cell_type": "code",
   "execution_count": 11,
   "id": "56b836ce",
   "metadata": {},
   "outputs": [],
   "source": [
    "from datetime import timedelta # enable traveling in time"
   ]
  },
  {
   "cell_type": "code",
   "execution_count": 12,
   "id": "c5a51b82",
   "metadata": {},
   "outputs": [
    {
     "data": {
      "text/plain": [
       "Timestamp('2018-02-17 00:00:00')"
      ]
     },
     "execution_count": 12,
     "metadata": {},
     "output_type": "execute_result"
    }
   ],
   "source": [
    "today = pd.to_datetime('2018-03-17 00:00:00')\n",
    "max_reg_date = today - timedelta(days=28)\n",
    "max_reg_date"
   ]
  },
  {
   "cell_type": "code",
   "execution_count": 13,
   "id": "dc0adaf2",
   "metadata": {},
   "outputs": [],
   "source": [
    "# Filter to only include users who registered before our max date\n",
    "purchase_data_filt = purchase_data [purchase_data.reg_date < max_reg_date] "
   ]
  },
  {
   "cell_type": "code",
   "execution_count": 14,
   "id": "23d17120",
   "metadata": {},
   "outputs": [],
   "source": [
    "# Filter to contain only purchases within the first 28 days of registration \n",
    "purchase_data_filt = purchase_data_filt[ purchase_data_filt.purchase_date <=  purchase_data_filt.reg_date + timedelta(days=28) ]"
   ]
  },
  {
   "cell_type": "code",
   "execution_count": 15,
   "id": "c14ba459",
   "metadata": {},
   "outputs": [
    {
     "data": {
      "text/html": [
       "<div>\n",
       "<style scoped>\n",
       "    .dataframe tbody tr th:only-of-type {\n",
       "        vertical-align: middle;\n",
       "    }\n",
       "\n",
       "    .dataframe tbody tr th {\n",
       "        vertical-align: top;\n",
       "    }\n",
       "\n",
       "    .dataframe thead th {\n",
       "        text-align: right;\n",
       "    }\n",
       "</style>\n",
       "<table border=\"1\" class=\"dataframe\">\n",
       "  <thead>\n",
       "    <tr style=\"text-align: right;\">\n",
       "      <th></th>\n",
       "      <th>purchase_date</th>\n",
       "      <th>uid</th>\n",
       "      <th>sku</th>\n",
       "      <th>price</th>\n",
       "      <th>reg_date</th>\n",
       "      <th>device</th>\n",
       "      <th>gender</th>\n",
       "      <th>country</th>\n",
       "      <th>age</th>\n",
       "    </tr>\n",
       "  </thead>\n",
       "  <tbody>\n",
       "    <tr>\n",
       "      <th>0</th>\n",
       "      <td>2017-07-10</td>\n",
       "      <td>41195147</td>\n",
       "      <td>sku_three_499</td>\n",
       "      <td>499</td>\n",
       "      <td>2017-06-26</td>\n",
       "      <td>and</td>\n",
       "      <td>M</td>\n",
       "      <td>BRA</td>\n",
       "      <td>17</td>\n",
       "    </tr>\n",
       "    <tr>\n",
       "      <th>1</th>\n",
       "      <td>2017-07-15</td>\n",
       "      <td>41195147</td>\n",
       "      <td>sku_three_499</td>\n",
       "      <td>499</td>\n",
       "      <td>2017-06-26</td>\n",
       "      <td>and</td>\n",
       "      <td>M</td>\n",
       "      <td>BRA</td>\n",
       "      <td>17</td>\n",
       "    </tr>\n",
       "    <tr>\n",
       "      <th>19</th>\n",
       "      <td>2016-05-12</td>\n",
       "      <td>22870987</td>\n",
       "      <td>sku_four_599</td>\n",
       "      <td>599</td>\n",
       "      <td>2016-04-20</td>\n",
       "      <td>iOS</td>\n",
       "      <td>F</td>\n",
       "      <td>BRA</td>\n",
       "      <td>26</td>\n",
       "    </tr>\n",
       "    <tr>\n",
       "      <th>34</th>\n",
       "      <td>2017-01-12</td>\n",
       "      <td>88736154</td>\n",
       "      <td>sku_five_899</td>\n",
       "      <td>899</td>\n",
       "      <td>2017-01-08</td>\n",
       "      <td>and</td>\n",
       "      <td>F</td>\n",
       "      <td>BRA</td>\n",
       "      <td>19</td>\n",
       "    </tr>\n",
       "    <tr>\n",
       "      <th>92</th>\n",
       "      <td>2016-12-08</td>\n",
       "      <td>45588501</td>\n",
       "      <td>sku_four_599</td>\n",
       "      <td>599</td>\n",
       "      <td>2016-11-27</td>\n",
       "      <td>and</td>\n",
       "      <td>F</td>\n",
       "      <td>USA</td>\n",
       "      <td>49</td>\n",
       "    </tr>\n",
       "  </tbody>\n",
       "</table>\n",
       "</div>"
      ],
      "text/plain": [
       "   purchase_date       uid            sku  price   reg_date device gender  \\\n",
       "0     2017-07-10  41195147  sku_three_499    499 2017-06-26    and      M   \n",
       "1     2017-07-15  41195147  sku_three_499    499 2017-06-26    and      M   \n",
       "19    2016-05-12  22870987   sku_four_599    599 2016-04-20    iOS      F   \n",
       "34    2017-01-12  88736154   sku_five_899    899 2017-01-08    and      F   \n",
       "92    2016-12-08  45588501   sku_four_599    599 2016-11-27    and      F   \n",
       "\n",
       "   country  age  \n",
       "0      BRA   17  \n",
       "1      BRA   17  \n",
       "19     BRA   26  \n",
       "34     BRA   19  \n",
       "92     USA   49  "
      ]
     },
     "execution_count": 15,
     "metadata": {},
     "output_type": "execute_result"
    }
   ],
   "source": [
    "purchase_data_filt.head()"
   ]
  },
  {
   "cell_type": "code",
   "execution_count": 16,
   "id": "0400e0a5",
   "metadata": {},
   "outputs": [
    {
     "data": {
      "text/plain": [
       "414.4237288135593"
      ]
     },
     "execution_count": 16,
     "metadata": {},
     "output_type": "execute_result"
    }
   ],
   "source": [
    "# our First KPI: \n",
    "purchase_data_filt.price.mean()  # price is in Cents"
   ]
  },
  {
   "cell_type": "markdown",
   "id": "b217dcbf",
   "metadata": {},
   "source": [
    "### Comment on How Filteration is Done\n",
    "<b> first <b> we ignore all people have registered upon last 28 day from today\n",
    "purchase_data.reg_date < max_reg_date.>\n",
    "<b>second<b> and more tricky, we only needs users who did purchases from whatever thier reg_date is + 28 days\n",
    "people from the first filter who did purchases after 29 day, we do not need them included!"
   ]
  },
  {
   "cell_type": "markdown",
   "id": "72d8c36b",
   "metadata": {},
   "source": [
    "## Reflect Those Prices made in month1 for each user in the Original Dataset"
   ]
  },
  {
   "cell_type": "code",
   "execution_count": 17,
   "id": "d9a853c1",
   "metadata": {
    "scrolled": false
   },
   "outputs": [
    {
     "data": {
      "text/html": [
       "<div>\n",
       "<style scoped>\n",
       "    .dataframe tbody tr th:only-of-type {\n",
       "        vertical-align: middle;\n",
       "    }\n",
       "\n",
       "    .dataframe tbody tr th {\n",
       "        vertical-align: top;\n",
       "    }\n",
       "\n",
       "    .dataframe thead th {\n",
       "        text-align: right;\n",
       "    }\n",
       "</style>\n",
       "<table border=\"1\" class=\"dataframe\">\n",
       "  <thead>\n",
       "    <tr style=\"text-align: right;\">\n",
       "      <th></th>\n",
       "      <th>purchase_date</th>\n",
       "      <th>uid</th>\n",
       "      <th>sku</th>\n",
       "      <th>price</th>\n",
       "      <th>reg_date</th>\n",
       "      <th>device</th>\n",
       "      <th>gender</th>\n",
       "      <th>country</th>\n",
       "      <th>age</th>\n",
       "      <th>month1</th>\n",
       "    </tr>\n",
       "  </thead>\n",
       "  <tbody>\n",
       "    <tr>\n",
       "      <th>0</th>\n",
       "      <td>2017-07-10</td>\n",
       "      <td>41195147</td>\n",
       "      <td>sku_three_499</td>\n",
       "      <td>499</td>\n",
       "      <td>2017-06-26</td>\n",
       "      <td>and</td>\n",
       "      <td>M</td>\n",
       "      <td>BRA</td>\n",
       "      <td>17</td>\n",
       "      <td>499</td>\n",
       "    </tr>\n",
       "    <tr>\n",
       "      <th>1</th>\n",
       "      <td>2017-07-15</td>\n",
       "      <td>41195147</td>\n",
       "      <td>sku_three_499</td>\n",
       "      <td>499</td>\n",
       "      <td>2017-06-26</td>\n",
       "      <td>and</td>\n",
       "      <td>M</td>\n",
       "      <td>BRA</td>\n",
       "      <td>17</td>\n",
       "      <td>499</td>\n",
       "    </tr>\n",
       "    <tr>\n",
       "      <th>2</th>\n",
       "      <td>2017-11-12</td>\n",
       "      <td>41195147</td>\n",
       "      <td>sku_four_599</td>\n",
       "      <td>599</td>\n",
       "      <td>2017-06-26</td>\n",
       "      <td>and</td>\n",
       "      <td>M</td>\n",
       "      <td>BRA</td>\n",
       "      <td>17</td>\n",
       "      <td>&lt;NA&gt;</td>\n",
       "    </tr>\n",
       "    <tr>\n",
       "      <th>3</th>\n",
       "      <td>2017-09-26</td>\n",
       "      <td>91591874</td>\n",
       "      <td>sku_two_299</td>\n",
       "      <td>299</td>\n",
       "      <td>2017-01-05</td>\n",
       "      <td>and</td>\n",
       "      <td>M</td>\n",
       "      <td>TUR</td>\n",
       "      <td>17</td>\n",
       "      <td>&lt;NA&gt;</td>\n",
       "    </tr>\n",
       "    <tr>\n",
       "      <th>4</th>\n",
       "      <td>2017-12-01</td>\n",
       "      <td>91591874</td>\n",
       "      <td>sku_four_599</td>\n",
       "      <td>599</td>\n",
       "      <td>2017-01-05</td>\n",
       "      <td>and</td>\n",
       "      <td>M</td>\n",
       "      <td>TUR</td>\n",
       "      <td>17</td>\n",
       "      <td>&lt;NA&gt;</td>\n",
       "    </tr>\n",
       "  </tbody>\n",
       "</table>\n",
       "</div>"
      ],
      "text/plain": [
       "  purchase_date       uid            sku  price   reg_date device gender  \\\n",
       "0    2017-07-10  41195147  sku_three_499    499 2017-06-26    and      M   \n",
       "1    2017-07-15  41195147  sku_three_499    499 2017-06-26    and      M   \n",
       "2    2017-11-12  41195147   sku_four_599    599 2017-06-26    and      M   \n",
       "3    2017-09-26  91591874    sku_two_299    299 2017-01-05    and      M   \n",
       "4    2017-12-01  91591874   sku_four_599    599 2017-01-05    and      M   \n",
       "\n",
       "  country  age month1  \n",
       "0     BRA   17    499  \n",
       "1     BRA   17    499  \n",
       "2     BRA   17   <NA>  \n",
       "3     TUR   17   <NA>  \n",
       "4     TUR   17   <NA>  "
      ]
     },
     "execution_count": 17,
     "metadata": {},
     "output_type": "execute_result"
    }
   ],
   "source": [
    "import numpy as np\n",
    "condition = ( purchase_data.reg_date < max_reg_date ) & ( purchase_data.purchase_date <=  purchase_data.reg_date + timedelta(days=28)  )\n",
    "purchase_data['month1'] = np.where( condition,  purchase_data.price, pd.NA)\n",
    "purchase_data.head()"
   ]
  },
  {
   "cell_type": "code",
   "execution_count": 18,
   "id": "3f77582a",
   "metadata": {},
   "outputs": [
    {
     "data": {
      "text/html": [
       "<div>\n",
       "<style scoped>\n",
       "    .dataframe tbody tr th:only-of-type {\n",
       "        vertical-align: middle;\n",
       "    }\n",
       "\n",
       "    .dataframe tbody tr th {\n",
       "        vertical-align: top;\n",
       "    }\n",
       "\n",
       "    .dataframe thead tr th {\n",
       "        text-align: left;\n",
       "    }\n",
       "</style>\n",
       "<table border=\"1\" class=\"dataframe\">\n",
       "  <thead>\n",
       "    <tr>\n",
       "      <th></th>\n",
       "      <th>uid</th>\n",
       "      <th>month1</th>\n",
       "    </tr>\n",
       "    <tr>\n",
       "      <th></th>\n",
       "      <th></th>\n",
       "      <th>sum</th>\n",
       "    </tr>\n",
       "  </thead>\n",
       "  <tbody>\n",
       "    <tr>\n",
       "      <th>429</th>\n",
       "      <td>41195147</td>\n",
       "      <td>998</td>\n",
       "    </tr>\n",
       "  </tbody>\n",
       "</table>\n",
       "</div>"
      ],
      "text/plain": [
       "          uid month1\n",
       "                 sum\n",
       "429  41195147    998"
      ]
     },
     "execution_count": 18,
     "metadata": {},
     "output_type": "execute_result"
    }
   ],
   "source": [
    "purchase_data_per_user = purchase_data.groupby(by=['uid'], as_index=False)\n",
    "purchase_data_per_user_agg = purchase_data_per_user.agg({'month1': ['sum']})\n",
    "# \n",
    "purchase_data_per_user_agg[purchase_data_per_user_agg['uid'] == 41195147]"
   ]
  },
  {
   "cell_type": "markdown",
   "id": "6e367f9b",
   "metadata": {},
   "source": [
    "## Average purchase price by cohort\n",
    "calculate these metrics across a set of cohorts and see what differences emerge. This is a useful task as it can help us understand <b>how behaviors vary<b> across cohorts."
   ]
  },
  {
   "cell_type": "code",
   "execution_count": 19,
   "id": "25f74223",
   "metadata": {},
   "outputs": [
    {
     "data": {
      "text/plain": [
       "<pandas.core.groupby.generic.DataFrameGroupBy object at 0x7f668d02b490>"
      ]
     },
     "execution_count": 19,
     "metadata": {},
     "output_type": "execute_result"
    }
   ],
   "source": [
    "purchase_data_grouped = purchase_data.groupby(by=['gender', 'device'], as_index=False)\n",
    "purchase_data_grouped"
   ]
  },
  {
   "cell_type": "code",
   "execution_count": 20,
   "id": "e5b7e01d",
   "metadata": {},
   "outputs": [
    {
     "data": {
      "text/html": [
       "<div>\n",
       "<style scoped>\n",
       "    .dataframe tbody tr th:only-of-type {\n",
       "        vertical-align: middle;\n",
       "    }\n",
       "\n",
       "    .dataframe tbody tr th {\n",
       "        vertical-align: top;\n",
       "    }\n",
       "\n",
       "    .dataframe thead tr th {\n",
       "        text-align: left;\n",
       "    }\n",
       "</style>\n",
       "<table border=\"1\" class=\"dataframe\">\n",
       "  <thead>\n",
       "    <tr>\n",
       "      <th></th>\n",
       "      <th>gender</th>\n",
       "      <th>device</th>\n",
       "      <th colspan=\"2\" halign=\"left\">month1</th>\n",
       "      <th colspan=\"2\" halign=\"left\">price</th>\n",
       "    </tr>\n",
       "    <tr>\n",
       "      <th></th>\n",
       "      <th></th>\n",
       "      <th></th>\n",
       "      <th>mean</th>\n",
       "      <th>median</th>\n",
       "      <th>mean</th>\n",
       "      <th>median</th>\n",
       "    </tr>\n",
       "  </thead>\n",
       "  <tbody>\n",
       "    <tr>\n",
       "      <th>0</th>\n",
       "      <td>F</td>\n",
       "      <td>and</td>\n",
       "      <td>387.826816</td>\n",
       "      <td>299.0</td>\n",
       "      <td>400.747504</td>\n",
       "      <td>299.0</td>\n",
       "    </tr>\n",
       "    <tr>\n",
       "      <th>1</th>\n",
       "      <td>F</td>\n",
       "      <td>iOS</td>\n",
       "      <td>435.567164</td>\n",
       "      <td>499.0</td>\n",
       "      <td>404.435330</td>\n",
       "      <td>299.0</td>\n",
       "    </tr>\n",
       "    <tr>\n",
       "      <th>2</th>\n",
       "      <td>M</td>\n",
       "      <td>and</td>\n",
       "      <td>413.534884</td>\n",
       "      <td>399.0</td>\n",
       "      <td>416.237308</td>\n",
       "      <td>499.0</td>\n",
       "    </tr>\n",
       "    <tr>\n",
       "      <th>3</th>\n",
       "      <td>M</td>\n",
       "      <td>iOS</td>\n",
       "      <td>434.238095</td>\n",
       "      <td>499.0</td>\n",
       "      <td>405.272401</td>\n",
       "      <td>299.0</td>\n",
       "    </tr>\n",
       "  </tbody>\n",
       "</table>\n",
       "</div>"
      ],
      "text/plain": [
       "  gender device      month1              price       \n",
       "                       mean median        mean median\n",
       "0      F    and  387.826816  299.0  400.747504  299.0\n",
       "1      F    iOS  435.567164  499.0  404.435330  299.0\n",
       "2      M    and  413.534884  399.0  416.237308  499.0\n",
       "3      M    iOS  434.238095  499.0  405.272401  299.0"
      ]
     },
     "execution_count": 20,
     "metadata": {},
     "output_type": "execute_result"
    }
   ],
   "source": [
    "purchase_summary = purchase_data_grouped.agg( {'month1': ['mean', 'median'], 'price': ['mean', 'median']} )\n",
    "purchase_summary"
   ]
  },
  {
   "cell_type": "markdown",
   "id": "f6229c9a",
   "metadata": {},
   "source": [
    "## How to visualize, manipulate, and explore KPIs as they change over time."
   ]
  },
  {
   "cell_type": "markdown",
   "id": "12bf8220",
   "metadata": {},
   "source": [
    "## Parsing dates\n",
    "https://strftime.org/"
   ]
  },
  {
   "cell_type": "code",
   "execution_count": 21,
   "id": "04b0b924",
   "metadata": {},
   "outputs": [
    {
     "data": {
      "text/plain": [
       "DatetimeIndex(['2017-01-27', '2017-12-02'], dtype='datetime64[ns]', freq=None)"
      ]
     },
     "execution_count": 21,
     "metadata": {},
     "output_type": "execute_result"
    }
   ],
   "source": [
    "dates1 = ['Saturday January 27, 2017', 'Saturday December 2, 2017']\n",
    "pd.to_datetime(dates1, format=\"%A %B %d, %Y\")"
   ]
  },
  {
   "cell_type": "code",
   "execution_count": 22,
   "id": "a5bce083",
   "metadata": {},
   "outputs": [
    {
     "data": {
      "text/plain": [
       "DatetimeIndex(['2017-01-01', '2016-05-03'], dtype='datetime64[ns]', freq=None)"
      ]
     },
     "execution_count": 22,
     "metadata": {},
     "output_type": "execute_result"
    }
   ],
   "source": [
    "dates2 = ['2017-01-01', '2016-05-03']\n",
    "pd.to_datetime(dates2, format= \"%Y-%m-%d\")"
   ]
  },
  {
   "cell_type": "code",
   "execution_count": 23,
   "id": "a3903165",
   "metadata": {},
   "outputs": [
    {
     "data": {
      "text/plain": [
       "DatetimeIndex(['1978-08-17', '1976-01-07'], dtype='datetime64[ns]', freq=None)"
      ]
     },
     "execution_count": 23,
     "metadata": {},
     "output_type": "execute_result"
    }
   ],
   "source": [
    "dates3 = ['08/17/1978', '01/07/1976']\n",
    "pd.to_datetime(dates3, format= \"%m/%d/%Y\")"
   ]
  },
  {
   "cell_type": "code",
   "execution_count": 24,
   "id": "2b17ec6a",
   "metadata": {},
   "outputs": [
    {
     "data": {
      "text/plain": [
       "DatetimeIndex(['2016-03-01 01:56:00', '2016-01-04 02:16:00'], dtype='datetime64[ns]', freq=None)"
      ]
     },
     "execution_count": 24,
     "metadata": {},
     "output_type": "execute_result"
    }
   ],
   "source": [
    "dates4 = ['2016 March 01 01:56', '2016 January 4 02:16']\n",
    "pd.to_datetime(dates4, format= \"%Y %B %d %H:%M\")"
   ]
  },
  {
   "cell_type": "markdown",
   "id": "4b8d098a",
   "metadata": {},
   "source": [
    "# BAD!!\n",
    "## Plotting time series data"
   ]
  },
  {
   "cell_type": "code",
   "execution_count": null,
   "id": "878a6a5f",
   "metadata": {},
   "outputs": [],
   "source": [
    "purchase_data['diff_days'] = (purchase_data['purchase_date'] - purchase_data['reg_date']) / np.timedelta64(1, 'D')\n",
    "purchase_data.head()"
   ]
  },
  {
   "cell_type": "code",
   "execution_count": null,
   "id": "732b5cff",
   "metadata": {
    "scrolled": false
   },
   "outputs": [],
   "source": [
    "condition = purchase_data.diff_days <= 7.0\n",
    "purchase_data['first_week_purchases'] = np.where(condition, 1, 0)\n",
    "purchase_data.head()"
   ]
  },
  {
   "cell_type": "code",
   "execution_count": null,
   "id": "4e4711e3",
   "metadata": {},
   "outputs": [],
   "source": [
    "purchase_data_grouped = purchase_data.groupby(by=['reg_date', 'uid']).agg({'first_week_purchases': ['sum']})\n",
    "purchase_data_grouped.head()"
   ]
  },
  {
   "cell_type": "markdown",
   "id": "14e0f8b8",
   "metadata": {},
   "source": [
    "### Comment\n",
    "very usefule to un complicate those grouping and return it to a flat DataFrame"
   ]
  },
  {
   "cell_type": "code",
   "execution_count": null,
   "id": "c187afca",
   "metadata": {},
   "outputs": [],
   "source": [
    "# Remember to ONLY ONE run This Cell since The Object is Mutated!\n",
    "purchase_data_grouped.columns = purchase_data_grouped.columns.droplevel(level=1)\n",
    "purchase_data_grouped.reset_index(inplace=True)\n",
    "purchase_data_grouped.head()"
   ]
  },
  {
   "cell_type": "code",
   "execution_count": null,
   "id": "f2ced6c2",
   "metadata": {},
   "outputs": [],
   "source": [
    "purchase_data_grouped.tail()"
   ]
  },
  {
   "cell_type": "code",
   "execution_count": null,
   "id": "98fbb323",
   "metadata": {},
   "outputs": [],
   "source": [
    "purchase_data_double_grouped = purchase_data_grouped.groupby(by=['reg_date']).agg({'first_week_purchases': ['mean']})\n",
    "\n",
    "purchase_data_double_grouped.columns = purchase_data_double_grouped.columns.droplevel(level=1)\n",
    "purchase_data_double_grouped.reset_index(inplace=True)"
   ]
  },
  {
   "cell_type": "code",
   "execution_count": null,
   "id": "bd5e5179",
   "metadata": {},
   "outputs": [],
   "source": [
    "purchase_data_double_grouped.head()\n",
    "# purchase_data_double_grouped.max()"
   ]
  },
  {
   "cell_type": "code",
   "execution_count": null,
   "id": "e145e48a",
   "metadata": {},
   "outputs": [],
   "source": [
    "import matplotlib.pyplot as plt"
   ]
  },
  {
   "cell_type": "code",
   "execution_count": null,
   "id": "1fd1c02c",
   "metadata": {},
   "outputs": [],
   "source": [
    "purchase_data_double_grouped.plot(x='reg_date', y='first_week_purchases')\n",
    "plt.show()"
   ]
  },
  {
   "cell_type": "markdown",
   "id": "01863aad",
   "metadata": {},
   "source": [
    "## Pivoting The Data"
   ]
  },
  {
   "cell_type": "code",
   "execution_count": null,
   "id": "61b4ec07",
   "metadata": {},
   "outputs": [],
   "source": [
    "user_purchases_country = purchase_data.groupby(by=['reg_date', 'country']).agg({'first_week_purchases': ['mean']})\n",
    "user_purchases_country.columns = user_purchases_country.columns.droplevel(level=1)\n",
    "user_purchases_country.reset_index(inplace=True)\n",
    "user_purchases_country.tail(6)"
   ]
  },
  {
   "cell_type": "code",
   "execution_count": null,
   "id": "5097eddc",
   "metadata": {},
   "outputs": [],
   "source": [
    "country_pivot = pd.pivot_table(user_purchases_country,\n",
    "               values=['first_week_purchases'],\n",
    "               columns=['country'],\n",
    "               index=['reg_date'])\n",
    "country_pivot.head()"
   ]
  },
  {
   "cell_type": "code",
   "execution_count": null,
   "id": "a1c1d51b",
   "metadata": {},
   "outputs": [],
   "source": [
    "user_purchases_device = purchase_data.groupby(by=['reg_date', 'device']).agg({'first_week_purchases': ['mean']})\n",
    "user_purchases_device.columns = user_purchases_device.columns.droplevel(level=1)\n",
    "user_purchases_device.reset_index(inplace=True)\n",
    "user_purchases_device.tail()"
   ]
  },
  {
   "cell_type": "code",
   "execution_count": null,
   "id": "4a8206b0",
   "metadata": {},
   "outputs": [],
   "source": [
    "device_pivot = pd.pivot_table(user_purchases_device,\n",
    "               values=['first_week_purchases'],\n",
    "               columns=['device'],\n",
    "               index=['reg_date'])\n",
    "device_pivot.head()"
   ]
  },
  {
   "cell_type": "code",
   "execution_count": null,
   "id": "6de36fbd",
   "metadata": {},
   "outputs": [],
   "source": [
    "country_pivot.columns = country_pivot.columns.droplevel(level=0)\n",
    "country_pivot.reset_index(inplace=True)"
   ]
  },
  {
   "cell_type": "code",
   "execution_count": null,
   "id": "54ae2002",
   "metadata": {},
   "outputs": [],
   "source": [
    "device_pivot.columns = device_pivot.columns.droplevel(level=0)\n",
    "device_pivot.reset_index(inplace=True)"
   ]
  },
  {
   "cell_type": "code",
   "execution_count": null,
   "id": "e0894ffd",
   "metadata": {},
   "outputs": [],
   "source": [
    "country_pivot\n",
    "# country_pivot.plot(x='reg_date', y=['USA', 'CAN', 'FRA', 'BRA', 'TUR', 'DEU'])\n",
    "# plt.show()"
   ]
  },
  {
   "cell_type": "code",
   "execution_count": null,
   "id": "d80127d3",
   "metadata": {},
   "outputs": [],
   "source": [
    "device_pivot.plot(x='reg_date', y=['and', 'iOS'])\n",
    "plt.show()"
   ]
  },
  {
   "cell_type": "markdown",
   "id": "560bbe9f",
   "metadata": {},
   "source": [
    "## Seasonality and moving averages\n",
    "\n",
    "### revenue is very seasonal .. \n",
    "so we want to correct for that and unlock macro trends!"
   ]
  },
  {
   "cell_type": "code",
   "execution_count": 30,
   "id": "e3c507a9",
   "metadata": {},
   "outputs": [],
   "source": [
    "import matplotlib.pyplot as plt"
   ]
  },
  {
   "cell_type": "code",
   "execution_count": 27,
   "id": "592c5247",
   "metadata": {},
   "outputs": [
    {
     "data": {
      "text/html": [
       "<div>\n",
       "<style scoped>\n",
       "    .dataframe tbody tr th:only-of-type {\n",
       "        vertical-align: middle;\n",
       "    }\n",
       "\n",
       "    .dataframe tbody tr th {\n",
       "        vertical-align: top;\n",
       "    }\n",
       "\n",
       "    .dataframe thead th {\n",
       "        text-align: right;\n",
       "    }\n",
       "</style>\n",
       "<table border=\"1\" class=\"dataframe\">\n",
       "  <thead>\n",
       "    <tr style=\"text-align: right;\">\n",
       "      <th></th>\n",
       "      <th>index</th>\n",
       "      <th>gender</th>\n",
       "      <th>device</th>\n",
       "      <th>revenue</th>\n",
       "      <th>date</th>\n",
       "      <th>country</th>\n",
       "    </tr>\n",
       "  </thead>\n",
       "  <tbody>\n",
       "    <tr>\n",
       "      <th>0</th>\n",
       "      <td>1</td>\n",
       "      <td>male</td>\n",
       "      <td>ios</td>\n",
       "      <td>186557.0</td>\n",
       "      <td>2013-09-20T00:00:00Z</td>\n",
       "      <td>USA</td>\n",
       "    </tr>\n",
       "    <tr>\n",
       "      <th>1</th>\n",
       "      <td>2</td>\n",
       "      <td>male</td>\n",
       "      <td>ios</td>\n",
       "      <td>177217.0</td>\n",
       "      <td>2013-09-21T00:00:00Z</td>\n",
       "      <td>USA</td>\n",
       "    </tr>\n",
       "    <tr>\n",
       "      <th>2</th>\n",
       "      <td>3</td>\n",
       "      <td>male</td>\n",
       "      <td>ios</td>\n",
       "      <td>177197.0</td>\n",
       "      <td>2013-09-22T00:00:00Z</td>\n",
       "      <td>USA</td>\n",
       "    </tr>\n",
       "    <tr>\n",
       "      <th>3</th>\n",
       "      <td>4</td>\n",
       "      <td>male</td>\n",
       "      <td>ios</td>\n",
       "      <td>157193.0</td>\n",
       "      <td>2013-09-23T00:00:00Z</td>\n",
       "      <td>USA</td>\n",
       "    </tr>\n",
       "    <tr>\n",
       "      <th>4</th>\n",
       "      <td>5</td>\n",
       "      <td>male</td>\n",
       "      <td>ios</td>\n",
       "      <td>165592.0</td>\n",
       "      <td>2013-09-24T00:00:00Z</td>\n",
       "      <td>USA</td>\n",
       "    </tr>\n",
       "  </tbody>\n",
       "</table>\n",
       "</div>"
      ],
      "text/plain": [
       "   index gender device   revenue                  date country\n",
       "0      1   male    ios  186557.0  2013-09-20T00:00:00Z     USA\n",
       "1      2   male    ios  177217.0  2013-09-21T00:00:00Z     USA\n",
       "2      3   male    ios  177197.0  2013-09-22T00:00:00Z     USA\n",
       "3      4   male    ios  157193.0  2013-09-23T00:00:00Z     USA\n",
       "4      5   male    ios  165592.0  2013-09-24T00:00:00Z     USA"
      ]
     },
     "execution_count": 27,
     "metadata": {},
     "output_type": "execute_result"
    }
   ],
   "source": [
    "daily_revenue = pd.read_csv(\"./data/ABTesting/dailyrevenue.csv\")\n",
    "daily_revenue.head()"
   ]
  },
  {
   "cell_type": "code",
   "execution_count": 28,
   "id": "7f326319",
   "metadata": {},
   "outputs": [],
   "source": [
    "# Compute 7_day_rev\n",
    "daily_revenue['7_day_rev'] = daily_revenue.revenue.rolling(window=7,center=False).mean()\n",
    "\n",
    "# Compute 28_day_rev\n",
    "daily_revenue['28_day_rev'] = daily_revenue.revenue.rolling(window=28,center=False).mean()\n",
    "    \n",
    "# Compute 365_day_rev\n",
    "daily_revenue['365_day_rev'] = daily_revenue.revenue.rolling(window=365,center=False).mean()"
   ]
  },
  {
   "cell_type": "code",
   "execution_count": 31,
   "id": "886d651f",
   "metadata": {},
   "outputs": [
    {
     "data": {
      "image/png": "[encoded data removed]",
      "text/plain": [
       "<Figure size 432x288 with 1 Axes>"
      ]
     },
     "metadata": {
      "needs_background": "light"
     },
     "output_type": "display_data"
    }
   ],
   "source": [
    "daily_revenue.plot(x='date', y=['revenue', '7_day_rev', '28_day_rev', '365_day_rev', ])\n",
    "plt.show()"
   ]
  },
  {
   "cell_type": "code",
   "execution_count": 32,
   "id": "41fccca2",
   "metadata": {},
   "outputs": [],
   "source": [
    "# Calculate 'small_scale'\n",
    "daily_revenue['small_scale'] = daily_revenue.revenue.ewm(span=10).mean()\n",
    "\n",
    "# Calculate 'medium_scale'\n",
    "daily_revenue['medium_scale'] = daily_revenue.revenue.ewm(span=100).mean()\n",
    "\n",
    "# Calculate 'large_scale'\n",
    "daily_revenue['large_scale'] = daily_revenue.revenue.ewm(span=500).mean()"
   ]
  },
  {
   "cell_type": "code",
   "execution_count": 33,
   "id": "d74c4457",
   "metadata": {
    "scrolled": true
   },
   "outputs": [
    {
     "data": {
      "image/png": "[encoded data removed]",
      "text/plain": [
       "<Figure size 432x288 with 1 Axes>"
      ]
     },
     "metadata": {
      "needs_background": "light"
     },
     "output_type": "display_data"
    }
   ],
   "source": [
    "daily_revenue.plot(x = 'date', y =['revenue', 'small_scale', 'medium_scale', 'large_scale'])\n",
    "plt.show()"
   ]
  },
  {
   "cell_type": "code",
   "execution_count": 37,
   "id": "630382a7",
   "metadata": {},
   "outputs": [
    {
     "name": "stdout",
     "output_type": "stream",
     "text": [
      "device                android               ios         \n",
      "gender                 female     male   female     male\n",
      "date                                                    \n",
      "2013-09-21T00:00:00Z  10857.5  31765.7  14601.1  42658.4\n",
      "2013-09-22T00:00:00Z   9487.0  30783.9  13244.3  41575.6\n",
      "2013-09-23T00:00:00Z   9145.6  28967.6  12446.6  38534.9\n",
      "2013-09-24T00:00:00Z  10159.5  30438.4  13592.7  40065.6\n",
      "2013-09-25T00:00:00Z  11223.6  31554.5  13943.3  41924.6\n",
      "...                       ...      ...      ...      ...\n",
      "2016-12-27T00:00:00Z  10510.2  30793.3  13610.1  40236.1\n",
      "2016-12-28T00:00:00Z  10237.6  32514.4  13944.1  42089.0\n",
      "2016-12-29T00:00:00Z  11369.3  36105.1  14548.4  47104.8\n",
      "2016-12-30T00:00:00Z  10860.7  33266.5  15523.1  43537.9\n",
      "2016-12-31T00:00:00Z  10669.1  31882.4  14780.5  42607.9\n",
      "\n",
      "[1198 rows x 4 columns]\n"
     ]
    },
    {
     "data": {
      "image/png": "[encoded data removed]",
      "text/plain": [
       "<Figure size 432x288 with 1 Axes>"
      ]
     },
     "metadata": {
      "needs_background": "light"
     },
     "output_type": "display_data"
    }
   ],
   "source": [
    "pivoted_data = pd.pivot_table(daily_revenue, values ='revenue', columns=['device', 'gender'], index='date')\n",
    "pivoted_data = pivoted_data[1:(len(pivoted_data) -1 )]\n",
    "print(pivoted_data)\n",
    "\n",
    "pivoted_data.plot()\n",
    "plt.show()"
   ]
  },
  {
   "cell_type": "markdown",
   "id": "c8818e5b",
   "metadata": {},
   "source": [
    "# Chapter 3: The Design and Application of A/B Testing\n"
   ]
  },
  {
   "cell_type": "code",
   "execution_count": null,
   "id": "be8e273b",
   "metadata": {},
   "outputs": [],
   "source": [
    "# Extract the 'day'; value from the timestamp\n",
    "purchase_data.date = purchase_data.date.dt.floor('d')\n",
    "\n",
    "# Replace the NaN price values with 0 \n",
    "purchase_data.price = np.where(np.isnan(purchase_data.price), 0, purchase_data.price)\n",
    "\n",
    "# Aggregate the data by 'uid' & 'date'\n",
    "purchase_data_agg = purchase_data.groupby(by=['uid', 'date'], as_index=False)\n",
    "revenue_user_day = purchase_data_agg.sum()\n",
    "\n",
    "# Calculate the final average\n",
    "revenue_user_day = revenue_user_day.price.mean()\n",
    "print(revenue_user_day)"
   ]
  },
  {
   "cell_type": "code",
   "execution_count": null,
   "id": "6ebe199d",
   "metadata": {},
   "outputs": [],
   "source": [
    "# Merge and group the datasets\n",
    "purchase_data = demographics_data.merge(paywall_views,  how='inner', on=['uid'])\n",
    "purchase_data.date = purchase_data.date.dt.floor('d')\n",
    "\n",
    "# Group and aggregate our combined dataset \n",
    "daily_purchase_data = purchase_data.groupby(by=['date'], as_index=False)\n",
    "daily_purchase_data = daily_purchase_data.agg({'purchase': ['sum', 'count']})\n",
    "\n",
    "# Find the mean of each field and then multiply by 1000 to scale the result\n",
    "daily_purchases = daily_purchase_data.purchase['sum'].mean()\n",
    "daily_paywall_views = daily_purchase_data.purchase['count'].mean()\n",
    "daily_purchases = daily_purchases * 1000\n",
    "daily_paywall_views = daily_paywall_views * 1000\n",
    "\n",
    "print(daily_purchases)\n",
    "print(daily_paywall_views)"
   ]
  },
  {
   "cell_type": "markdown",
   "id": "129fc7d2",
   "metadata": {},
   "source": [
    "# CHAPTER4: Analyzing A/B Testing Results"
   ]
  },
  {
   "cell_type": "code",
   "execution_count": 5,
   "id": "4729a46f",
   "metadata": {},
   "outputs": [],
   "source": [
    "import pandas as pd\n",
    "ab_test_results = pd.read_csv(\"./data/ABTesting/ABTestingResults.csv\")"
   ]
  },
  {
   "cell_type": "code",
   "execution_count": 6,
   "id": "3c5b5c8f",
   "metadata": {
    "scrolled": true
   },
   "outputs": [
    {
     "name": "stdout",
     "output_type": "stream",
     "text": [
      "         uid\n",
      "group       \n",
      "GRP A  23009\n",
      "GRP B  22874\n"
     ]
    }
   ],
   "source": [
    "# Compute and print the results\n",
    "results = ab_test_results.groupby('group').agg({'uid': pd.Series.nunique}) \n",
    "print(results)"
   ]
  },
  {
   "cell_type": "code",
   "execution_count": 7,
   "id": "2189cdf2",
   "metadata": {},
   "outputs": [
    {
     "name": "stdout",
     "output_type": "stream",
     "text": [
      "             uid\n",
      "group           \n",
      "GRP A  50.147113\n",
      "GRP B  49.852887\n"
     ]
    }
   ],
   "source": [
    "# Find the overall number of unique users using \"len\" and \"unique\"\n",
    "unique_users = len(ab_test_results.uid.unique())\n",
    "\n",
    "# Find the percentage in each group\n",
    "results = results / unique_users * 100\n",
    "print(results)"
   ]
  },
  {
   "cell_type": "code",
   "execution_count": 8,
   "id": "8785bfbe",
   "metadata": {},
   "outputs": [
    {
     "name": "stdout",
     "output_type": "stream",
     "text": [
      "                           uid\n",
      "group device gender           \n",
      "GRP A A      F       12.239827\n",
      "             M       12.795589\n",
      "      I      F       12.542772\n",
      "             M       12.568925\n",
      "GRP B A      F       12.553669\n",
      "             M       12.499183\n",
      "      I      F       12.283417\n",
      "             M       12.516618\n"
     ]
    }
   ],
   "source": [
    "# Find the unique users in each group \n",
    "results = ab_test_results.groupby(by=['group', 'device', 'gender']).agg({'uid': pd.Series.nunique}) \n",
    "\n",
    "# Find the overall number of unique users using \"len\" and \"unique\"\n",
    "unique_users = len(ab_test_results.uid.unique())\n",
    "\n",
    "# Find the percentage in each group\n",
    "results = results / unique_users * 100\n",
    "print(results)"
   ]
  },
  {
   "cell_type": "code",
   "execution_count": 9,
   "id": "242a1ebd",
   "metadata": {},
   "outputs": [],
   "source": [
    "def get_pvalue(con_conv, test_conv, con_size, test_size):  \n",
    "    lift =  - abs(test_conv - con_conv)\n",
    "\n",
    "    scale_one = con_conv * (1 - con_conv) * (1 / con_size)\n",
    "    scale_two = test_conv * (1 - test_conv) * (1 / test_size)\n",
    "    scale_val = (scale_one + scale_two)**0.5\n",
    "\n",
    "    p_value = 2 * stats.norm.cdf(lift, loc = 0, scale = scale_val )\n",
    "\n",
    "    return p_value"
   ]
  },
  {
   "cell_type": "code",
   "execution_count": null,
   "id": "b65d087f",
   "metadata": {},
   "outputs": [],
   "source": [
    "# Get the p-value\n",
    "p_value = get_pvalue(con_conv=0.1, test_conv=0.17, con_size=1000, test_size=1000)\n",
    "print(p_value)"
   ]
  },
  {
   "cell_type": "code",
   "execution_count": null,
   "id": "a3d5ab0c",
   "metadata": {},
   "outputs": [],
   "source": [
    "# Get the p-value\n",
    "p_value = get_pvalue(con_conv=0.1, test_conv=0.15, con_size=100, test_size=100)\n",
    "print(p_value)"
   ]
  },
  {
   "cell_type": "code",
   "execution_count": null,
   "id": "1c60f4d8",
   "metadata": {},
   "outputs": [],
   "source": [
    "p_value = get_pvalue(con_conv=0.48, test_conv=0.50, con_size=1000, test_size=1000)\n",
    "print(p_value)"
   ]
  },
  {
   "cell_type": "code",
   "execution_count": null,
   "id": "cbe543c5",
   "metadata": {},
   "outputs": [],
   "source": [
    "# Checking for statistical significance\n",
    "# Compute the p-value\n",
    "\n",
    "cont_conv = 0.09096495570387314\n",
    "test_conv = 0.1020053238686779\n",
    "cont_size = 5329\n",
    "test_size = 5748\n",
    "\n",
    "p_value = get_pvalue(cont_conv, test_conv, cont_size, test_size)\n",
    "print(p_value)\n",
    "\n",
    "# Check for statistical significance\n",
    "if p_value >= 0.05:\n",
    "    print(\"Not Significant\")\n",
    "else:\n",
    "    print(\"Significant Result\")"
   ]
  },
  {
   "cell_type": "code",
   "execution_count": null,
   "id": "0d3e8604",
   "metadata": {},
   "outputs": [],
   "source": [
    "# Understanding confidence intervals\n",
    "def get_ci(value, cl, sd):\n",
    "  loc = sci.norm.ppf(1 - cl/2)\n",
    "  rng_val = sci.norm.cdf(loc - value/sd)\n",
    "\n",
    "  lwr_bnd = value - rng_val\n",
    "  upr_bnd = value + rng_val \n",
    "\n",
    "  return_val = (lwr_bnd, upr_bnd)\n",
    "  return(return_val)"
   ]
  },
  {
   "cell_type": "code",
   "execution_count": null,
   "id": "14b08f1a",
   "metadata": {},
   "outputs": [],
   "source": [
    "# Compute and print the confidence interval\n",
    "confidence_interval  = get_ci(1, 0.975, 0.5)\n",
    "print(confidence_interval)"
   ]
  },
  {
   "cell_type": "code",
   "execution_count": null,
   "id": "bff59748",
   "metadata": {},
   "outputs": [],
   "source": [
    "# Compute and print the confidence interval\n",
    "confidence_interval  = get_ci(1, 0.95, 2)\n",
    "print(confidence_interval)"
   ]
  },
  {
   "cell_type": "code",
   "execution_count": null,
   "id": "1b6bd31a",
   "metadata": {},
   "outputs": [],
   "source": [
    "# Compute and print the confidence interval\n",
    "confidence_interval  = get_ci(1, 0.95, 0.001)\n",
    "print(confidence_interval)"
   ]
  },
  {
   "cell_type": "code",
   "execution_count": null,
   "id": "7bcd1ce7",
   "metadata": {},
   "outputs": [],
   "source": [
    "# Calculating confidence intervals\n",
    "\n",
    "\n",
    "# Calculate the mean of our lift distribution \n",
    "lift_mean = test_conv - cont_conv\n",
    "\n",
    "# Calculate variance and standard deviation \n",
    "lift_variance = (1 - test_conv) * test_conv /test_size + (1 - cont_conv) * cont_conv / cont_size\n",
    "lift_sd = lift_variance**0.5\n",
    "\n",
    "# Find the confidence intervals with cl = 0.95\n",
    "confidence_interval = get_ci(lift_mean, 0.95, lift_sd)\n",
    "print(confidence_interval)"
   ]
  },
  {
   "cell_type": "code",
   "execution_count": null,
   "id": "23060c10",
   "metadata": {},
   "outputs": [],
   "source": [
    "# Plotting the distribution\n",
    "\n",
    "\n",
    "# Compute the standard deviations\n",
    "control_sd = cont_var**0.5\n",
    "test_sd = test_var**0.5\n",
    "\n",
    "# Create the range of x values \n",
    "control_line = np.linspace(cont_conv - 3 * control_sd, cont_conv + 3 * control_sd, 100)\n",
    "test_line = np.linspace(test_conv - 3 * test_sd, test_conv + 3 * test_sd, 100)\n",
    "\n",
    "# Plot the distribution     \n",
    "plt.plot(control_line, norm.pdf(control_line, cont_conv, control_sd))\n",
    "plt.plot(test_line, norm.pdf(test_line, test_conv, test_sd))\n",
    "plt.show()"
   ]
  },
  {
   "cell_type": "code",
   "execution_count": null,
   "id": "e787ec0f",
   "metadata": {},
   "outputs": [],
   "source": [
    "# Find the lift mean and standard deviation\n",
    "lift_mean = test_conv - cont_conv\n",
    "lift_sd = (test_var + cont_var) ** 0.5\n",
    "\n",
    "# Generate the range of x-values\n",
    "lift_line = np.linspace(lift_mean - 3 * lift_sd, lift_mean + 3 * lift_sd, 100)\n",
    "\n",
    "# Plot the lift distribution\n",
    "plt.plot(lift_line, norm.pdf(lift_line, lift_mean, lift_sd))\n",
    "\n",
    "# Add the annotation lines\n",
    "plt.axvline(x = lift_mean, color = 'green')\n",
    "plt.axvline(x = lwr_ci, color = 'red')\n",
    "plt.axvline(x = upr_ci, color = 'red')\n",
    "plt.show()"
   ]
  }
 ],
 "metadata": {
  "kernelspec": {
   "display_name": "Python 3 (ipykernel)",
   "language": "python",
   "name": "python3"
  },
  "language_info": {
   "codemirror_mode": {
    "name": "ipython",
    "version": 3
   },
   "file_extension": ".py",
   "mimetype": "text/x-python",
   "name": "python",
   "nbconvert_exporter": "python",
   "pygments_lexer": "ipython3",
   "version": "3.9.12"
  }
 },
 "nbformat": 4,
 "nbformat_minor": 5
}
